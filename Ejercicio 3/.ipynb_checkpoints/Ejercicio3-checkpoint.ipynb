{
 "cells": [
  {
   "cell_type": "code",
   "execution_count": 53,
   "metadata": {},
   "outputs": [],
   "source": [
    "import time\n",
    "import pandas as pd\n",
    "import numpy as np"
   ]
  },
  {
   "cell_type": "code",
   "execution_count": 63,
   "metadata": {},
   "outputs": [],
   "source": [
    "with open('costos.txt') as costos_ordenes:\n",
    "    lista_de_deseos = map(float,costos_ordenes.read().split('\\n'))\n",
    "    "
   ]
  },
  {
   "cell_type": "code",
   "execution_count": 65,
   "metadata": {
    "scrolled": true
   },
   "outputs": [
    {
     "name": "stdout",
     "output_type": "stream",
     "text": [
      "Inversion es de:  $  32869928.0\n",
      "Duracion: 0.31113195419311523 segundos\n"
     ]
    }
   ],
   "source": [
    "inicio = time.time()\n",
    "carrito_de_deseos = []\n",
    "for costo in lista_de_deseos:\n",
    "    if costo <= 25.0:\n",
    "        carrito_de_deseos.append(costo)\n",
    "print (\"Inversion es de:  $  {}\".format(sum(inversion_tienda)))\n",
    "print('Duracion: {} segundos'.format(time.time() - inicio))\n",
    "        "
   ]
  },
  {
   "cell_type": "code",
   "execution_count": 69,
   "metadata": {},
   "outputs": [
    {
     "name": "stdout",
     "output_type": "stream",
     "text": [
      "La inversion es:  $  32869928.0\n",
      "Duracion: 1.1897783279418945 segundos\n"
     ]
    }
   ],
   "source": [
    "inicio = time.time()\n",
    "lista_deseos = list(lista_deseos)\n",
    "lista_deseos = np.array(lista_deseos)\n",
    "inversion_tienda = lista_deseos[lista_deseos <= 25.0]\n",
    "print (\"La inversion es:  $  {}\".format(np.sum(inversion_tienda)))\n",
    "print ('Duracion: {} segundos'.format(time.time() - inicio)) "
   ]
  },
  {
   "cell_type": "code",
   "execution_count": null,
   "metadata": {},
   "outputs": [],
   "source": []
  }
 ],
 "metadata": {
  "kernelspec": {
   "display_name": "Python 3",
   "language": "python",
   "name": "python3"
  },
  "language_info": {
   "codemirror_mode": {
    "name": "ipython",
    "version": 3
   },
   "file_extension": ".py",
   "mimetype": "text/x-python",
   "name": "python",
   "nbconvert_exporter": "python",
   "pygments_lexer": "ipython3",
   "version": "3.8.3"
  }
 },
 "nbformat": 4,
 "nbformat_minor": 4
}
